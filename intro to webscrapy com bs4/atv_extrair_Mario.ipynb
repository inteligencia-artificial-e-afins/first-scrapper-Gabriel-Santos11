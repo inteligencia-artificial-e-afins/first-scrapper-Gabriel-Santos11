{
  "cells": [
    {
      "cell_type": "code",
      "execution_count": null,
      "metadata": {
        "id": "ZZEv6vpxs7Sq"
      },
      "outputs": [],
      "source": [
        "import requests\n",
        "\n",
        "from bs4 import BeautifulSoup"
      ]
    },
    {
      "cell_type": "code",
      "execution_count": null,
      "metadata": {
        "id": "VfoArNcju9oM"
      },
      "outputs": [],
      "source": [
        "url = 'https://olhardigital.com.br/editorias/noticias/'"
      ]
    },
    {
      "cell_type": "code",
      "execution_count": null,
      "metadata": {
        "id": "ukwF1OG4vD0M"
      },
      "outputs": [],
      "source": [
        "headers = {\n",
        "  'User-Agent': 'Mozilla/5.0 (Windows NT 10.0; Win64; x64) AppleWebKit/537.36 (KHTML, like Gecko) Chrome/111.0.0.0 Safari/537.36'\n",
        "}\n",
        "response = requests.get(url, headers=headers)\n",
        "\n",
        "response.status_code"
      ]
    },
    {
      "cell_type": "code",
      "execution_count": null,
      "metadata": {
        "id": "bmzeQo5YvOgj"
      },
      "outputs": [],
      "source": [
        "sp = BeautifulSoup(response.text, 'html.parser')"
      ]
    },
    {
      "cell_type": "code",
      "execution_count": null,
      "metadata": {
        "colab": {
          "base_uri": "https://localhost:8080/",
          "height": 36
        },
        "id": "cnhzSyk9vruk",
        "outputId": "101fd868-8b50-49db-bfbc-b8be1b7e9d8d"
      },
      "outputs": [
        {
          "data": {
            "application/vnd.google.colaboratory.intrinsic+json": {
              "type": "string"
            },
            "text/plain": [
              "'Notícias - Olhar Digital'"
            ]
          },
          "execution_count": 5,
          "metadata": {},
          "output_type": "execute_result"
        }
      ],
      "source": [
        "title = sp.find('title').text\n",
        "title"
      ]
    },
    {
      "cell_type": "code",
      "execution_count": null,
      "metadata": {
        "id": "RuTWsV8ww9Hp"
      },
      "outputs": [],
      "source": [
        "headings = sp.find_all(class_='post-list')"
      ]
    },
    {
      "cell_type": "code",
      "execution_count": null,
      "metadata": {
        "colab": {
          "base_uri": "https://localhost:8080/"
        },
        "id": "0raBjfZoxPch",
        "outputId": "3dae4e94-9f49-4f6d-b4e5-094c987aa33c"
      },
      "outputs": [
        {
          "data": {
            "text/plain": [
              "[<div class=\"post-list margin-wrapper-lg columns2\">\n",
              " <a class=\"card-post type8 img-effect1\" href=\"https://olhardigital.com.br/2024/03/26/ciencia-e-espaco/surpresa-sonda-japonesa-pode-voltar-a-trabalhar-na-lua/\" title=\"Surpresa: sonda japonesa pode voltar a trabalhar na Lua\">\n",
              " <div class=\"post-image\">\n",
              " <img alt=\"Surpresa: sonda japonesa pode voltar a trabalhar na Lua\" class=\"attachment-popular size-popular wp-post-image\" height=\"165\" loading=\"eagle\" sizes=\"(max-width: 260px) 100vw, 260px\" src=\"https://img.odcdn.com.br/wp-content/uploads/2024/01/Jaxa-SLIM-na-Lua-260x165.jpg\" srcset=\"https://img.odcdn.com.br/wp-content/uploads/2024/01/Jaxa-SLIM-na-Lua-260x165.jpg 260w, https://img.odcdn.com.br/wp-content/uploads/2024/01/Jaxa-SLIM-na-Lua-353x225.jpg 353w, https://img.odcdn.com.br/wp-content/uploads/2024/01/Jaxa-SLIM-na-Lua-365x232.jpg 365w\" title=\"Surpresa: sonda japonesa pode voltar a trabalhar na Lua\" width=\"260\"/> </div>\n",
              " <div class=\"post-text\">\n",
              " <div class=\"post-title\"><h2>Surpresa: sonda japonesa pode voltar a trabalhar na Lua</h2></div>\n",
              " <div class=\"post-excerpt\">Nesta terça-feira (26), a Agência de Exploração Aeroespacial do Japão (JAXA) fez um...</div>\n",
              " <div class=\"post-footer\">Leia mais... <img alt=\"Leia mais...\" height=\"12px\" src=\"https://olhardigital.com.br/wp-content/themes/olhardigital/views/default/assets/images/right-arrow-dark.svg\" width=\"12px\"/></div>\n",
              " </div>\n",
              " </a>\n",
              " <a class=\"card-post type8 img-effect1\" href=\"https://olhardigital.com.br/2024/03/26/pro/carteira-do-google-agora-pede-desbloqueio-da-tela-para-pagamentos/\" title=\"Carteira do Google agora pede desbloqueio da tela para pagamentos\">\n",
              " <div class=\"post-image\">\n",
              " <img alt=\"Carteira do Google agora pede desbloqueio da tela para pagamentos\" class=\"attachment-popular size-popular wp-post-image\" height=\"165\" loading=\"eagle\" sizes=\"(max-width: 260px) 100vw, 260px\" src=\"https://img.odcdn.com.br/wp-content/uploads/2024/03/google-wallet-260x165.jpg\" srcset=\"https://img.odcdn.com.br/wp-content/uploads/2024/03/google-wallet-260x165.jpg 260w, https://img.odcdn.com.br/wp-content/uploads/2024/03/google-wallet-353x225.jpg 353w, https://img.odcdn.com.br/wp-content/uploads/2024/03/google-wallet-365x232.jpg 365w\" title=\"Carteira do Google agora pede desbloqueio da tela para pagamentos\" width=\"260\"/> </div>\n",
              " <div class=\"post-text\">\n",
              " <div class=\"post-title\"><h2>Carteira do Google agora pede desbloqueio da tela para pagamentos</h2></div>\n",
              " <div class=\"post-excerpt\">Os pagamentos feitos por smartphone na Carteira do Google, ou Google Wallet, agora...</div>\n",
              " <div class=\"post-footer\">Leia mais... <img alt=\"Leia mais...\" height=\"12px\" src=\"https://olhardigital.com.br/wp-content/themes/olhardigital/views/default/assets/images/right-arrow-dark.svg\" width=\"12px\"/></div>\n",
              " </div>\n",
              " </a>\n",
              " <a class=\"card-post type8 img-effect1\" href=\"https://olhardigital.com.br/2024/03/26/ciencia-e-espaco/astronomos-descobrem-os-menores-terremotos-estelares-ja-detectados/\" title=\"Astrônomos descobrem os menores “terremotos estelares” já detectados\">\n",
              " <div class=\"post-image\">\n",
              " <img alt=\"Astrônomos descobrem os menores “terremotos estelares” já detectados\" class=\"attachment-popular size-popular wp-post-image\" height=\"165\" loading=\"eagle\" sizes=\"(max-width: 260px) 100vw, 260px\" src=\"https://img.odcdn.com.br/wp-content/uploads/2024/03/terremotos-estelares3-260x165.jpg\" srcset=\"https://img.odcdn.com.br/wp-content/uploads/2024/03/terremotos-estelares3-260x165.jpg 260w, https://img.odcdn.com.br/wp-content/uploads/2024/03/terremotos-estelares3-353x225.jpg 353w, https://img.odcdn.com.br/wp-content/uploads/2024/03/terremotos-estelares3-365x232.jpg 365w\" title=\"Astrônomos descobrem os menores “terremotos estelares” já detectados\" width=\"260\"/> </div>\n",
              " <div class=\"post-text\">\n",
              " <div class=\"post-title\"><h2>Astrônomos descobrem os menores “terremotos estelares” já detectados</h2></div>\n",
              " <div class=\"post-excerpt\">Um artigo publicado nesta terça-feira (26) na revista Astronomy &amp; Astrophysics relata a...</div>\n",
              " <div class=\"post-footer\">Leia mais... <img alt=\"Leia mais...\" height=\"12px\" src=\"https://olhardigital.com.br/wp-content/themes/olhardigital/views/default/assets/images/right-arrow-dark.svg\" width=\"12px\"/></div>\n",
              " </div>\n",
              " </a>\n",
              " <a class=\"card-post type8 img-effect1\" href=\"https://olhardigital.com.br/2024/03/26/ciencia-e-espaco/equipe-do-mit-cria-tecnica-para-tornar-geradores-de-imagens-de-ia-30-vezes-mais-rapidos/\" title=\"Equipe do MIT cria técnica para tornar geradores de imagens de IA 30 vezes mais rápidos\">\n",
              " <div class=\"post-image\">\n",
              " <img alt=\"Equipe do MIT cria técnica para tornar geradores de imagens de IA 30 vezes mais rápidos\" class=\"attachment-popular size-popular wp-post-image\" height=\"165\" loading=\"eagle\" sizes=\"(max-width: 260px) 100vw, 260px\" src=\"https://img.odcdn.com.br/wp-content/uploads/2024/03/midjourney-260x165.jpg\" srcset=\"https://img.odcdn.com.br/wp-content/uploads/2024/03/midjourney-260x165.jpg 260w, https://img.odcdn.com.br/wp-content/uploads/2024/03/midjourney-353x225.jpg 353w, https://img.odcdn.com.br/wp-content/uploads/2024/03/midjourney-365x232.jpg 365w\" title=\"Equipe do MIT cria técnica para tornar geradores de imagens de IA 30 vezes mais rápidos\" width=\"260\"/> </div>\n",
              " <div class=\"post-text\">\n",
              " <div class=\"post-title\"><h2>Equipe do MIT cria técnica para tornar geradores de imagens de IA 30 vezes mais rápidos</h2></div>\n",
              " <div class=\"post-excerpt\">Uma nova técnica desenvolvida por cientistas do Massachusetts Institute of Technology (MIT) pode...</div>\n",
              " <div class=\"post-footer\">Leia mais... <img alt=\"Leia mais...\" height=\"12px\" src=\"https://olhardigital.com.br/wp-content/themes/olhardigital/views/default/assets/images/right-arrow-dark.svg\" width=\"12px\"/></div>\n",
              " </div>\n",
              " </a>\n",
              " <!-- Banner -->\n",
              " <div class=\"publicidade\">publicidade</div>\n",
              " <div class=\"ad ad-728x90\" id=\"banner-728x90-area\"><script>window.uolads && window.uolads.push({ id: \"banner-728x90-area\" });</script></div>\n",
              " <a class=\"card-post type8 img-effect1\" href=\"https://olhardigital.com.br/2024/03/26/reviews/wwdc-2024-apple-confirma-evento-em-junho-veja-o-que-esperar/\" title=\"WWDC 2024: Apple confirma evento em junho; veja o que esperar\">\n",
              " <div class=\"post-image\">\n",
              " <img alt=\"WWDC 2024: Apple confirma evento em junho; veja o que esperar\" class=\"attachment-popular size-popular wp-post-image\" height=\"165\" loading=\"lazy\" sizes=\"(max-width: 260px) 100vw, 260px\" src=\"https://img.odcdn.com.br/wp-content/uploads/2024/03/wwdc-2024-260x165.webp\" srcset=\"https://img.odcdn.com.br/wp-content/uploads/2024/03/wwdc-2024-260x165.webp 260w, https://img.odcdn.com.br/wp-content/uploads/2024/03/wwdc-2024-353x225.webp 353w, https://img.odcdn.com.br/wp-content/uploads/2024/03/wwdc-2024-365x232.webp 365w\" title=\"WWDC 2024: Apple confirma evento em junho; veja o que esperar\" width=\"260\"/> </div>\n",
              " <div class=\"post-text\">\n",
              " <div class=\"post-title\"><h2>WWDC 2024: Apple confirma evento em junho; veja o que esperar</h2></div>\n",
              " <div class=\"post-excerpt\">A Apple confirmou nesta terça-feira (26) a data da 35ª edição da sua...</div>\n",
              " <div class=\"post-footer\">Leia mais... <img alt=\"Leia mais...\" height=\"12px\" src=\"https://olhardigital.com.br/wp-content/themes/olhardigital/views/default/assets/images/right-arrow-dark.svg\" width=\"12px\"/></div>\n",
              " </div>\n",
              " </a>\n",
              " <a class=\"card-post type8 img-effect1\" href=\"https://olhardigital.com.br/2024/03/26/ciencia-e-espaco/tumulo-de-4-mil-anos-e-finalmente-aberto/\" title=\"Túmulo de 4 mil anos é finalmente aberto\">\n",
              " <div class=\"post-image\">\n",
              " <img alt=\"Túmulo de 4 mil anos é finalmente aberto\" class=\"attachment-popular size-popular wp-post-image\" height=\"165\" loading=\"lazy\" sizes=\"(max-width: 260px) 100vw, 260px\" src=\"https://img.odcdn.com.br/wp-content/uploads/2024/03/egito-1-260x165.png\" srcset=\"https://img.odcdn.com.br/wp-content/uploads/2024/03/egito-1-260x165.png 260w, https://img.odcdn.com.br/wp-content/uploads/2024/03/egito-1-353x225.png 353w, https://img.odcdn.com.br/wp-content/uploads/2024/03/egito-1-365x232.png 365w\" title=\"Túmulo de 4 mil anos é finalmente aberto\" width=\"260\"/> </div>\n",
              " <div class=\"post-text\">\n",
              " <div class=\"post-title\"><h2>Túmulo de 4 mil anos é finalmente aberto</h2></div>\n",
              " <div class=\"post-excerpt\">Arqueólogos localizaram uma tumba de 4.300 anos com pinturas que ilustram a vida...</div>\n",
              " <div class=\"post-footer\">Leia mais... <img alt=\"Leia mais...\" height=\"12px\" src=\"https://olhardigital.com.br/wp-content/themes/olhardigital/views/default/assets/images/right-arrow-dark.svg\" width=\"12px\"/></div>\n",
              " </div>\n",
              " </a>\n",
              " <a class=\"card-post type8 img-effect1\" href=\"https://olhardigital.com.br/2024/03/26/ciencia-e-espaco/eclipse-solar-total-aumentou-numero-de-mortes-no-transito-em-2017-entenda-como/\" title=\"Eclipse Solar Total aumentou número de mortes no trânsito em 2017; entenda como\">\n",
              " <div class=\"post-image\">\n",
              " <img alt=\"Eclipse Solar Total aumentou número de mortes no trânsito em 2017; entenda como\" class=\"attachment-popular size-popular wp-post-image\" height=\"165\" loading=\"lazy\" sizes=\"(max-width: 260px) 100vw, 260px\" src=\"https://img.odcdn.com.br/wp-content/uploads/2024/02/Eclipse-Solar-Total-260x165.webp\" srcset=\"https://img.odcdn.com.br/wp-content/uploads/2024/02/Eclipse-Solar-Total-260x165.webp 260w, https://img.odcdn.com.br/wp-content/uploads/2024/02/Eclipse-Solar-Total-353x225.webp 353w, https://img.odcdn.com.br/wp-content/uploads/2024/02/Eclipse-Solar-Total-365x232.webp 365w\" title=\"Eclipse Solar Total aumentou número de mortes no trânsito em 2017; entenda como\" width=\"260\"/> </div>\n",
              " <div class=\"post-text\">\n",
              " <div class=\"post-title\"><h2>Eclipse Solar Total aumentou número de mortes no trânsito em 2017; entenda como</h2></div>\n",
              " <div class=\"post-excerpt\">Um Eclipse Solar Total é esperado para o mês de abril. O fenômeno poderá...</div>\n",
              " <div class=\"post-footer\">Leia mais... <img alt=\"Leia mais...\" height=\"12px\" src=\"https://olhardigital.com.br/wp-content/themes/olhardigital/views/default/assets/images/right-arrow-dark.svg\" width=\"12px\"/></div>\n",
              " </div>\n",
              " </a>\n",
              " <a class=\"card-post type8 img-effect1\" href=\"https://olhardigital.com.br/2024/03/26/pro/ia-no-brasil-entusiasmo-popular-esbarra-em-falta-de-investimentos/\" title=\"IA no Brasil: Entusiasmo popular esbarra em falta de investimentos\">\n",
              " <div class=\"post-image\">\n",
              " <img alt=\"IA no Brasil: Entusiasmo popular esbarra em falta de investimentos\" class=\"attachment-popular size-popular wp-post-image\" height=\"165\" loading=\"lazy\" sizes=\"(max-width: 260px) 100vw, 260px\" src=\"https://img.odcdn.com.br/wp-content/uploads/2024/03/Destaque-Inteligencia-artificial-no-trabalho-260x165.jpg\" srcset=\"https://img.odcdn.com.br/wp-content/uploads/2024/03/Destaque-Inteligencia-artificial-no-trabalho-260x165.jpg 260w, https://img.odcdn.com.br/wp-content/uploads/2024/03/Destaque-Inteligencia-artificial-no-trabalho-353x225.jpg 353w, https://img.odcdn.com.br/wp-content/uploads/2024/03/Destaque-Inteligencia-artificial-no-trabalho-365x232.jpg 365w\" title=\"IA no Brasil: Entusiasmo popular esbarra em falta de investimentos\" width=\"260\"/> </div>\n",
              " <div class=\"post-text\">\n",
              " <div class=\"post-title\"><h2>IA no Brasil: Entusiasmo popular esbarra em falta de investimentos</h2></div>\n",
              " <div class=\"post-excerpt\">O Brasil está entre os países que mais confia e tem familiaridade com...</div>\n",
              " <div class=\"post-footer\">Leia mais... <img alt=\"Leia mais...\" height=\"12px\" src=\"https://olhardigital.com.br/wp-content/themes/olhardigital/views/default/assets/images/right-arrow-dark.svg\" width=\"12px\"/></div>\n",
              " </div>\n",
              " </a>\n",
              " <!-- Banner -->\n",
              " <div class=\"publicidade\">publicidade</div>\n",
              " <div class=\"ad ad-728x90\">\n",
              " <div id=\"denakop-ad-horizontal-1\">\n",
              " <script type=\"text/javascript\">\n",
              " \t\t\t\t\t\t\t\t\t\t denakop.cmd.push(function () {\n",
              " \t\t\t\t\t\t\t\t\t\t\tdenakop.displayAd({\n",
              " \t\t\t\t\t\t\t\t\t\t\t   divId: \"denakop-ad-horizontal-1\",\n",
              " \t\t\t\t\t\t\t\t\t\t\t   name: \"horizontal\",\n",
              " \t\t\t\t\t\t\t\t\t\t\t   adUnit: \"tablet_horizontal\",\n",
              " \t\t\t\t\t\t\t\t\t\t\t\t sizes: { \n",
              " \t\t\t\t\t\t\t\t\t\t\t\t   desktop: [[728,90]],\n",
              " \t\t\t\t\t\t\t\t\t\t\t\t   tablet: [[300,250]],\n",
              " \t\t\t\t\t\t\t\t\t\t\t\t   mobile: [[300,250]],\n",
              " \t\t\t\t\t\t\t\t\t\t\t\t },\n",
              " \t\t\t\t\t\t\t\t\t\t\t});\n",
              " \t\t\t\t\t\t\t\t\t\t });\n",
              " \t\t\t\t\t\t\t\t\t   </script>\n",
              " </div>\n",
              " </div>\n",
              " <a class=\"card-post type8 img-effect1\" href=\"https://olhardigital.com.br/2024/03/26/medicina-e-saude/mascara-desenvolvida-na-usp-pode-ajudar-pacientes-com-apneia/\" title=\"Máscara desenvolvida na USP pode ajudar pacientes com apneia\">\n",
              " <div class=\"post-image\">\n",
              " <img alt=\"Máscara desenvolvida na USP pode ajudar pacientes com apneia\" class=\"attachment-popular size-popular wp-post-image\" height=\"165\" loading=\"lazy\" sizes=\"(max-width: 260px) 100vw, 260px\" src=\"https://img.odcdn.com.br/wp-content/uploads/2024/03/apneia-260x165.jpg\" srcset=\"https://img.odcdn.com.br/wp-content/uploads/2024/03/apneia-260x165.jpg 260w, https://img.odcdn.com.br/wp-content/uploads/2024/03/apneia-300x191.jpg 300w, https://img.odcdn.com.br/wp-content/uploads/2024/03/apneia-1024x651.jpg 1024w, https://img.odcdn.com.br/wp-content/uploads/2024/03/apneia-768x488.jpg 768w, https://img.odcdn.com.br/wp-content/uploads/2024/03/apneia-353x225.jpg 353w, https://img.odcdn.com.br/wp-content/uploads/2024/03/apneia-365x232.jpg 365w, https://img.odcdn.com.br/wp-content/uploads/2024/03/apneia-150x95.jpg 150w, https://img.odcdn.com.br/wp-content/uploads/2024/03/apneia.jpg 1300w\" title=\"Máscara desenvolvida na USP pode ajudar pacientes com apneia\" width=\"260\"/> </div>\n",
              " <div class=\"post-text\">\n",
              " <div class=\"post-title\"><h2>Máscara desenvolvida na USP pode ajudar pacientes com apneia</h2></div>\n",
              " <div class=\"post-excerpt\">Uma nova máscara para pacientes com apneia do sono está sendo desenvolvida por...</div>\n",
              " <div class=\"post-footer\">Leia mais... <img alt=\"Leia mais...\" height=\"12px\" src=\"https://olhardigital.com.br/wp-content/themes/olhardigital/views/default/assets/images/right-arrow-dark.svg\" width=\"12px\"/></div>\n",
              " </div>\n",
              " </a>\n",
              " <a class=\"card-post type8 img-effect1\" href=\"https://olhardigital.com.br/2024/03/26/ciencia-e-espaco/atividade-cerebral-dos-caes-indica-que-eles-reconhecem-os-nomes-dos-objetos/\" title=\"Atividade cerebral dos cães indica que eles reconhecem os nomes dos objetos\">\n",
              " <div class=\"post-image\">\n",
              " <img alt=\"Atividade cerebral dos cães indica que eles reconhecem os nomes dos objetos\" class=\"attachment-popular size-popular wp-post-image\" height=\"165\" loading=\"lazy\" sizes=\"(max-width: 260px) 100vw, 260px\" src=\"https://img.odcdn.com.br/wp-content/uploads/2024/03/cachorro-bola-260x165.jpg\" srcset=\"https://img.odcdn.com.br/wp-content/uploads/2024/03/cachorro-bola-260x165.jpg 260w, https://img.odcdn.com.br/wp-content/uploads/2024/03/cachorro-bola-353x225.jpg 353w, https://img.odcdn.com.br/wp-content/uploads/2024/03/cachorro-bola-365x232.jpg 365w\" title=\"Atividade cerebral dos cães indica que eles reconhecem os nomes dos objetos\" width=\"260\"/> </div>\n",
              " <div class=\"post-text\">\n",
              " <div class=\"post-title\"><h2>Atividade cerebral dos cães indica que eles reconhecem os nomes dos objetos</h2></div>\n",
              " <div class=\"post-excerpt\">Um artigo recém-publicado na revista Current Biology descreve uma descoberta fascinante em relação...</div>\n",
              " <div class=\"post-footer\">Leia mais... <img alt=\"Leia mais...\" height=\"12px\" src=\"https://olhardigital.com.br/wp-content/themes/olhardigital/views/default/assets/images/right-arrow-dark.svg\" width=\"12px\"/></div>\n",
              " </div>\n",
              " </a>\n",
              " </div>]"
            ]
          },
          "execution_count": 7,
          "metadata": {},
          "output_type": "execute_result"
        }
      ],
      "source": [
        "headings"
      ]
    },
    {
      "cell_type": "code",
      "execution_count": null,
      "metadata": {
        "id": "FlwWEgjpxt4h"
      },
      "outputs": [],
      "source": [
        "# headings[3]\n",
        "sabia = headings[0]"
      ]
    },
    {
      "cell_type": "code",
      "execution_count": null,
      "metadata": {
        "colab": {
          "base_uri": "https://localhost:8080/",
          "height": 186
        },
        "id": "7RYnYBxVyCGX",
        "outputId": "7e5b7fa9-3124-4c1a-a0db-2513a1c731a9"
      },
      "outputs": [
        {
          "data": {
            "text/html": [
              "<div style=\"max-width:800px; border: 1px solid var(--colab-border-color);\"><style>\n",
              "      pre.function-repr-contents {\n",
              "        overflow-x: auto;\n",
              "        padding: 8px 12px;\n",
              "        max-height: 500px;\n",
              "      }\n",
              "\n",
              "      pre.function-repr-contents.function-repr-contents-collapsed {\n",
              "        cursor: pointer;\n",
              "        max-height: 100px;\n",
              "      }\n",
              "    </style>\n",
              "    <pre style=\"white-space: initial; background:\n",
              "         var(--colab-secondary-surface-color); padding: 8px 12px;\n",
              "         border-bottom: 1px solid var(--colab-border-color);\"><b>bs4.element.Tag</b><br/>def __call__(*args, **kwargs)</pre><pre class=\"function-repr-contents function-repr-contents-collapsed\" style=\"\"><a class=\"filepath\" style=\"display:none\" href=\"#\">/usr/local/lib/python3.10/dist-packages/bs4/element.py</a>Represents an HTML or XML tag that is part of a parse tree, along\n",
              "with its attributes and contents.\n",
              "\n",
              "When Beautiful Soup parses the markup &lt;b&gt;penguin&lt;/b&gt;, it will\n",
              "create a Tag object representing the &lt;b&gt; tag.</pre>\n",
              "      <script>\n",
              "      if (google.colab.kernel.accessAllowed && google.colab.files && google.colab.files.view) {\n",
              "        for (const element of document.querySelectorAll('.filepath')) {\n",
              "          element.style.display = 'block'\n",
              "          element.onclick = (event) => {\n",
              "            event.preventDefault();\n",
              "            event.stopPropagation();\n",
              "            google.colab.files.view(element.textContent, 1191);\n",
              "          };\n",
              "        }\n",
              "      }\n",
              "      for (const element of document.querySelectorAll('.function-repr-contents')) {\n",
              "        element.onclick = (event) => {\n",
              "          event.preventDefault();\n",
              "          event.stopPropagation();\n",
              "          element.classList.toggle('function-repr-contents-collapsed');\n",
              "        };\n",
              "      }\n",
              "      </script>\n",
              "      </div>"
            ],
            "text/plain": [
              "bs4.element.Tag"
            ]
          },
          "execution_count": 9,
          "metadata": {},
          "output_type": "execute_result"
        }
      ],
      "source": [
        "type(sabia)"
      ]
    },
    {
      "cell_type": "code",
      "execution_count": null,
      "metadata": {
        "id": "pr3LT9sWzC7K"
      },
      "outputs": [],
      "source": [
        "contents = sp.find_all(class_='text-csr')[0]\n",
        "link = sp.find_all(class_='card-post')[0]"
      ]
    },
    {
      "cell_type": "code",
      "execution_count": null,
      "metadata": {
        "colab": {
          "base_uri": "https://localhost:8080/",
          "height": 186
        },
        "id": "NxYsAMU4zIwA",
        "outputId": "d55034e8-9522-4390-f64d-eda28a9c22c7"
      },
      "outputs": [
        {
          "data": {
            "text/html": [
              "<div style=\"max-width:800px; border: 1px solid var(--colab-border-color);\"><style>\n",
              "      pre.function-repr-contents {\n",
              "        overflow-x: auto;\n",
              "        padding: 8px 12px;\n",
              "        max-height: 500px;\n",
              "      }\n",
              "\n",
              "      pre.function-repr-contents.function-repr-contents-collapsed {\n",
              "        cursor: pointer;\n",
              "        max-height: 100px;\n",
              "      }\n",
              "    </style>\n",
              "    <pre style=\"white-space: initial; background:\n",
              "         var(--colab-secondary-surface-color); padding: 8px 12px;\n",
              "         border-bottom: 1px solid var(--colab-border-color);\"><b>bs4.element.Tag</b><br/>def __call__(*args, **kwargs)</pre><pre class=\"function-repr-contents function-repr-contents-collapsed\" style=\"\"><a class=\"filepath\" style=\"display:none\" href=\"#\">/usr/local/lib/python3.10/dist-packages/bs4/element.py</a>Represents an HTML or XML tag that is part of a parse tree, along\n",
              "with its attributes and contents.\n",
              "\n",
              "When Beautiful Soup parses the markup &lt;b&gt;penguin&lt;/b&gt;, it will\n",
              "create a Tag object representing the &lt;b&gt; tag.</pre>\n",
              "      <script>\n",
              "      if (google.colab.kernel.accessAllowed && google.colab.files && google.colab.files.view) {\n",
              "        for (const element of document.querySelectorAll('.filepath')) {\n",
              "          element.style.display = 'block'\n",
              "          element.onclick = (event) => {\n",
              "            event.preventDefault();\n",
              "            event.stopPropagation();\n",
              "            google.colab.files.view(element.textContent, 1191);\n",
              "          };\n",
              "        }\n",
              "      }\n",
              "      for (const element of document.querySelectorAll('.function-repr-contents')) {\n",
              "        element.onclick = (event) => {\n",
              "          event.preventDefault();\n",
              "          event.stopPropagation();\n",
              "          element.classList.toggle('function-repr-contents-collapsed');\n",
              "        };\n",
              "      }\n",
              "      </script>\n",
              "      </div>"
            ],
            "text/plain": [
              "bs4.element.Tag"
            ]
          },
          "execution_count": 11,
          "metadata": {},
          "output_type": "execute_result"
        }
      ],
      "source": [
        "type(contents)"
      ]
    },
    {
      "cell_type": "code",
      "execution_count": null,
      "metadata": {
        "colab": {
          "base_uri": "https://localhost:8080/"
        },
        "id": "Ur4WZrcHzkDA",
        "outputId": "7c685dd7-3287-4146-92c3-30fe33e8ff09"
      },
      "outputs": [
        {
          "name": "stdout",
          "output_type": "stream",
          "text": [
            "Surpresa: sonda japonesa pode voltar a trabalhar na Lua\n",
            "Nesta terça-feira (26), a Agência de Exploração Aeroespacial do Japão (JAXA) fez um...\n"
          ]
        }
      ],
      "source": [
        "h2 = contents.find_all('h2')\n",
        "div = contents.find_all('div', class_='post-excerpt')\n",
        "\n",
        "\n",
        "href = link['href']\n",
        "\n",
        "\n",
        "\n",
        "for content in h2:\n",
        "  title = content.text\n",
        "#print(title)\n",
        "\n",
        "\n",
        "#PEGANDO OS PARAGRAFO SALVO EM DIV\n",
        "for content in div:\n",
        "  paragrafo = content.text\n",
        "\n",
        "print(title)\n",
        "print(paragrafo)\n"
      ]
    },
    {
      "cell_type": "code",
      "execution_count": null,
      "metadata": {
        "id": "8lWVOFMGVOQ4"
      },
      "outputs": [],
      "source": []
    },
    {
      "cell_type": "code",
      "execution_count": null,
      "metadata": {
        "colab": {
          "base_uri": "https://localhost:8080/"
        },
        "id": "YEa2b1sqz0wU",
        "outputId": "cdc93961-98db-485f-a62e-f8a286d8e0ae"
      },
      "outputs": [
        {
          "name": "stdout",
          "output_type": "stream",
          "text": [
            "Notícias - Olhar Digital\n"
          ]
        }
      ],
      "source": [
        "''' constLink = 'https://olhardigital.com.br/editorias/noticias/'\n",
        "\n",
        "for a in links:\n",
        "    title = a.text\n",
        "    href = constLink + a['href']  # Obtém o link do atributo href\n",
        "\n",
        "    print(\"Título:\", title, flush=True)  # Imprime o título\n",
        "    for p in paragrafos:\n",
        "        paragrafo = p.text + '\\n'\n",
        "\n",
        "    print(paragrafos, flush=True)  # Imprime os parágrafos\n",
        "    print(\"O link para o artigo é:\", href, flush=True)  # Imprime o link\n",
        "    print()  # Adiciona uma linha em branco entre cada item\n",
        "print(title) '''\n"
      ]
    },
    {
      "cell_type": "markdown",
      "metadata": {
        "id": "qk8c3ZljAh98"
      },
      "source": [
        "Formatar email"
      ]
    },
    {
      "cell_type": "markdown",
      "metadata": {
        "id": "0wRMd37pAlPD"
      },
      "source": []
    },
    {
      "cell_type": "code",
      "execution_count": null,
      "metadata": {
        "id": "QhvZYUheBajV"
      },
      "outputs": [],
      "source": [
        "import requests\n",
        "from bs4 import BeautifulSoup\n",
        "import smtplib\n",
        "from email.mime.multipart import MIMEMultipart\n",
        "from email.mime.text import MIMEText"
      ]
    },
    {
      "cell_type": "code",
      "execution_count": null,
      "metadata": {
        "colab": {
          "base_uri": "https://localhost:8080/"
        },
        "id": "vv5VwbNrBcKc",
        "outputId": "dcfee62e-f69e-46e8-e0f6-b1cf478f19d3"
      },
      "outputs": [
        {
          "name": "stdout",
          "output_type": "stream",
          "text": [
            "E-mail enviado com sucesso!\n"
          ]
        }
      ],
      "source": [
        "smtp_server = 'daiajhiajdada'\n",
        "smtp_port = 45464646\n",
        "sender_email = 'meuEmail'\n",
        "sender_password = 'aidmadaiadjiad'\n",
        "\n",
        "# Configurações do e-mail\n",
        "recipient_email = ['gabriel.ferreira@edu.unifil.br','octhogabriel@gmail.com','mario.adaniya@unifil.br']\n",
        "email_subject = 'DS101'\n",
        "\n",
        "\n",
        "\n",
        "# Formatar e-mail\n",
        "email_body = f\"<a href='{href}'><h2>{title}</h2></a><br><br>{paragrafo} <p>Enviado por Gabriel Ferreira dos Santos gabriel.ferreira@edu.unifil.br </p>\"\n",
        "\n",
        "# Configuração do e-mail MIME\n",
        "msg = MIMEMultipart()\n",
        "msg['From'] = sender_email\n",
        "msg['To'] = recipient_email\n",
        "msg['Subject'] = email_subject\n",
        "\n",
        "# Adicionar corpo do e-mail\n",
        "msg.attach(MIMEText(email_body, 'html'))\n",
        "\n",
        "# Iniciar conexão SMTP\n",
        "server = smtplib.SMTP(smtp_server, smtp_port)\n",
        "server.starttls()\n",
        "\n",
        "# Fazer login no servidor SMTP\n",
        "server.login(sender_email, sender_password)\n",
        "\n",
        "# Enviar e-mail para cada destinatário\n",
        "for recipient_email in recipient_email:\n",
        "    # Atualizar o destinatário no cabeçalho do e-mail\n",
        "    msg.replace_header('To', recipient_email)\n",
        "\n",
        "    # Enviar e-mail\n",
        "    server.sendmail(sender_email, recipient_email, msg.as_string())\n",
        "\n",
        "# Encerrar conexão SMTP\n",
        "server.quit()\n",
        "\n",
        "print(\"E-mail enviado com sucesso!\")\n"
      ]
    },
    {
      "cell_type": "code",
      "execution_count": null,
      "metadata": {
        "id": "rFdyBZfcFTrj"
      },
      "outputs": [],
      "source": []
    }
  ],
  "metadata": {
    "colab": {
      "provenance": []
    },
    "kernelspec": {
      "display_name": "Python 3",
      "name": "python3"
    },
    "language_info": {
      "name": "python"
    }
  },
  "nbformat": 4,
  "nbformat_minor": 0
}
